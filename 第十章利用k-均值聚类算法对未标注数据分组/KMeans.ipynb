{
 "cells": [
  {
   "cell_type": "markdown",
   "metadata": {},
   "source": [
    "## K-均值聚类支持函数"
   ]
  },
  {
   "cell_type": "code",
   "execution_count": 1,
   "metadata": {},
   "outputs": [],
   "source": [
    "from numpy import *\n",
    "\n",
    "def loadDataSet(fileName):\n",
    "    dataMat = []\n",
    "    fr = open(fileName)\n",
    "    for line in fr.readlines():\n",
    "        curLine = line.strip().split('\\t')\n",
    "        fltLine = list(map(float,curLine))\n",
    "        dataMat.append(fltLine)\n",
    "    return dataMat\n",
    "def disEclud(vecA,vecB):\n",
    "    import math\n",
    "    return math.sqrt(sum(power(vecA - vecB,2)))\n",
    "def randCent(dataSet,k):\n",
    "    n = shape(dataSet)[1]\n",
    "    centroids = mat(zeros((k,n)))\n",
    "    for j in range(n):\n",
    "        minJ = min(dataSet[:,j])\n",
    "        rangeJ = float(max(dataSet[:,j]) - minJ)\n",
    "        centroids[:,j] = minJ + rangeJ * random.rand(k,1)\n",
    "    return centroids"
   ]
  },
  {
   "cell_type": "code",
   "execution_count": 2,
   "metadata": {},
   "outputs": [],
   "source": [
    "datMat = mat(loadDataSet('testSet.txt'))"
   ]
  },
  {
   "cell_type": "code",
   "execution_count": 3,
   "metadata": {
    "scrolled": true
   },
   "outputs": [
    {
     "data": {
      "text/plain": [
       "matrix([[-5.379713]])"
      ]
     },
     "execution_count": 3,
     "metadata": {},
     "output_type": "execute_result"
    }
   ],
   "source": [
    "min(datMat[:,0])"
   ]
  },
  {
   "cell_type": "markdown",
   "metadata": {},
   "source": [
    "## k-均值聚类算法"
   ]
  },
  {
   "cell_type": "code",
   "execution_count": 4,
   "metadata": {},
   "outputs": [],
   "source": [
    "# K-均值聚类算法\n",
    "def Kmeans(dataSet,k,distMeans = disEclud,createCent = randCent):\n",
    "    m = shape(dataSet)[0]\n",
    "    clusterAssment = mat(zeros((m,2)))\n",
    "    centroids = createCent(dataSet,k)\n",
    "    clusterChanged = True\n",
    "    while clusterChanged:\n",
    "        clusterChanged = False\n",
    "        for i in range(m):\n",
    "            minDist = inf\n",
    "            minIndex = -1\n",
    "            for j in range(k):\n",
    "                distJI = distMeans(centroids[j,:],dataSet[i,:])\n",
    "                if distJI < minDist:\n",
    "                    minDist = distJI\n",
    "                    minIndex = j\n",
    "            if clusterAssment[i,0] != minIndex:\n",
    "                clusterChanged = True\n",
    "            clusterAssment[i,:] = minIndex,minDist**2\n",
    "        print(centroids)\n",
    "        for cent in range(k):\n",
    "            ptsInClust = dataSet[nonzero(clusterAssment[:,0].A == cent)[0]]\n",
    "            centroids[cent,:] = mean(ptsInClust,axis = 0)\n",
    "    return centroids,clusterAssment"
   ]
  },
  {
   "cell_type": "code",
   "execution_count": 5,
   "metadata": {},
   "outputs": [],
   "source": [
    "datMat = mat(loadDataSet('testSet.txt'))"
   ]
  },
  {
   "cell_type": "code",
   "execution_count": 6,
   "metadata": {
    "scrolled": true
   },
   "outputs": [
    {
     "name": "stdout",
     "output_type": "stream",
     "text": [
      "[[ 1.43349662  0.76156471]\n",
      " [ 3.29914386  4.0639438 ]\n",
      " [ 0.54510913  1.2763215 ]\n",
      " [ 2.59808578 -2.0546357 ]]\n",
      "[[ 2.5788746   1.1559532 ]\n",
      " [ 2.624524    3.53268467]\n",
      " [-2.92009409  0.60553546]\n",
      " [ 1.66608012 -3.02478724]]\n",
      "[[ 3.15787957  0.54371129]\n",
      " [ 2.32648653  3.48573529]\n",
      " [-3.06957486  0.04470084]\n",
      " [ 2.29630447 -3.17754284]]\n",
      "[[ 3.26860533  0.30704483]\n",
      " [ 2.12141968  3.44538163]\n",
      " [-3.079971   -0.18431611]\n",
      " [ 2.54173689 -3.11892933]]\n",
      "[[ 3.26860533  0.30704483]\n",
      " [ 1.80435343  3.39147748]\n",
      " [-3.18695357 -0.35938491]\n",
      " [ 2.54173689 -3.11892933]]\n",
      "[[ 3.26860533  0.30704483]\n",
      " [ 1.6457145   3.370942  ]\n",
      " [-3.231108   -0.45641674]\n",
      " [ 2.54173689 -3.11892933]]\n"
     ]
    }
   ],
   "source": [
    "myCentroide,clustAssing = Kmeans(datMat,4)"
   ]
  },
  {
   "cell_type": "code",
   "execution_count": 7,
   "metadata": {},
   "outputs": [
    {
     "data": {
      "text/plain": [
       "matrix([[ 3.26860533,  0.30704483],\n",
       "        [ 1.6457145 ,  3.370942  ],\n",
       "        [-3.231108  , -0.45641674],\n",
       "        [ 2.54173689, -3.11892933]])"
      ]
     },
     "execution_count": 7,
     "metadata": {},
     "output_type": "execute_result"
    }
   ],
   "source": [
    "myCentroide"
   ]
  },
  {
   "cell_type": "markdown",
   "metadata": {},
   "source": [
    "## 二分K-均值聚类算法"
   ]
  },
  {
   "cell_type": "code",
   "execution_count": 11,
   "metadata": {},
   "outputs": [],
   "source": [
    "\n",
    "# 二分K-均值聚类算法\n",
    "def biKmeans(dataSet,k,distMeas = disEclud):\n",
    "    m = shape(dataSet)[0]\n",
    "    clusterAssment = mat(zeros((m,2)))\n",
    "    centroid0 = mean(dataSet,axis = 0).tolist()[0]\n",
    "    centList = [centroid0]\n",
    "    for j in range(m):\n",
    "        clusterAssment[j,1] = distMeas(mat(centroid0),dataSet[j,:])**2\n",
    "    while (len(centList) < k):\n",
    "        lowestSSE = inf\n",
    "        for i in range(len(centList)):\n",
    "            ptsInCurrCluster = dataSet[nonzero(clusterAssment[:,0].A == i)[0],:]\n",
    "            centroidMat,splitClustAss = Kmeans(ptsInCurrCluster,2,distMeas)\n",
    "            sseSplit = sum(splitClustAss[:,1])\n",
    "            sseNotSplit = sum(clusterAssment[nonzero(clusterAssment[:,0].A != i)[0],1])\n",
    "            print(\"sseSplit, and not Split: \",sseSplit,sseNotSplit)\n",
    "            if (sseSplit + sseNotSplit) < lowestSSE:\n",
    "                bestCentToSplit = i\n",
    "                bestNewCents = centroidMat\n",
    "                bestClustAss = splitClustAss.copy()\n",
    "                lowestSSE = sseSplit + sseNotSplit\n",
    "        bestClustAss[nonzero(bestClustAss[:,0].A == 1)[0],0] = len(centList)\n",
    "        bestClustAss[nonzero(bestClustAss[:,0].A == 0)[0],0] = bestCentToSplit\n",
    "        print(\"the bestCentToSplit is: \",bestCentToSplit)\n",
    "        print(\"the len of bestClustAss is: \",len(bestClustAss))\n",
    "        centList[bestCentToSplit] = bestNewCents[0,:].tolist()[0]\n",
    "        centList.append(bestNewCents[1,:].tolist()[0])\n",
    "        clusterAssment[nonzero(clusterAssment[:,0].A == bestCentToSplit)[0],:] = bestClustAss\n",
    "    return mat(centList),clusterAssment"
   ]
  },
  {
   "cell_type": "code",
   "execution_count": 12,
   "metadata": {},
   "outputs": [],
   "source": [
    "datMat3 = mat(loadDataSet(\"testSet2.txt\"))"
   ]
  },
  {
   "cell_type": "code",
   "execution_count": 13,
   "metadata": {
    "scrolled": true
   },
   "outputs": [
    {
     "name": "stdout",
     "output_type": "stream",
     "text": [
      "[[-1.76041866  1.17238886]\n",
      " [-0.47142374  4.59350951]]\n",
      "[[-1.22761874 -0.91968645]\n",
      " [ 0.98595917  3.51827886]]\n",
      "[[-0.97166321 -1.96674883]\n",
      " [ 0.38490422  3.35338275]]\n",
      "[[-0.62407076 -2.58281924]\n",
      " [ 0.09338772  3.27587208]]\n",
      "[[-0.45965615 -2.7782156 ]\n",
      " [-0.00675605  3.22710297]]\n",
      "sseSplit, and not Split:  453.0334895807502 0.0\n",
      "the bestCentToSplit is:  0\n",
      "the len of bestClustAss is:  60\n",
      "[[-1.70785245 -3.91594994]\n",
      " [-1.75471992 -2.98411797]]\n",
      "[[ 0.34949733 -3.6403825 ]\n",
      " [-0.80643621 -2.4087155 ]]\n",
      "[[ 0.34658275 -3.48379675]\n",
      " [-0.99714875 -2.30782817]]\n",
      "[[ 0.35496167 -3.36033556]\n",
      " [-1.12616164 -2.30193564]]\n",
      "sseSplit, and not Split:  12.753263136887313 423.8762401366249\n",
      "[[ 0.96972241  0.49272599]\n",
      " [-4.64003538  4.01079115]]\n",
      "[[ 2.76275171  3.12704005]\n",
      " [-3.06779095  3.33769884]]\n",
      "[[ 2.93386365  3.12782785]\n",
      " [-2.94737575  3.3263781 ]]\n",
      "sseSplit, and not Split:  77.59224931775066 29.15724944412535\n",
      "the bestCentToSplit is:  1\n",
      "the len of bestClustAss is:  40\n"
     ]
    }
   ],
   "source": [
    "centList,myNewAssments = biKmeans(datMat3,3)"
   ]
  },
  {
   "cell_type": "code",
   "execution_count": 14,
   "metadata": {},
   "outputs": [
    {
     "data": {
      "text/plain": [
       "matrix([[-0.45965615, -2.7782156 ],\n",
       "        [ 2.93386365,  3.12782785],\n",
       "        [-2.94737575,  3.3263781 ]])"
      ]
     },
     "execution_count": 14,
     "metadata": {},
     "output_type": "execute_result"
    }
   ],
   "source": [
    "# 质心\n",
    "centList"
   ]
  },
  {
   "cell_type": "markdown",
   "metadata": {},
   "source": [
    "## 示例：对地图上的点进行聚类"
   ]
  },
  {
   "cell_type": "code",
   "execution_count": null,
   "metadata": {},
   "outputs": [],
   "source": []
  }
 ],
 "metadata": {
  "kernelspec": {
   "display_name": "Python 3",
   "language": "python",
   "name": "python3"
  },
  "language_info": {
   "codemirror_mode": {
    "name": "ipython",
    "version": 3
   },
   "file_extension": ".py",
   "mimetype": "text/x-python",
   "name": "python",
   "nbconvert_exporter": "python",
   "pygments_lexer": "ipython3",
   "version": "3.7.0"
  }
 },
 "nbformat": 4,
 "nbformat_minor": 2
}
