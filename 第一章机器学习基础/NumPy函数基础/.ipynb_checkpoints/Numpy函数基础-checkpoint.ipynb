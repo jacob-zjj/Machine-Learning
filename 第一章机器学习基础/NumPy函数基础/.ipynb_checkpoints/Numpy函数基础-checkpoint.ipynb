{
 "cells": [
  {
   "cell_type": "code",
   "execution_count": 1,
   "metadata": {},
   "outputs": [],
   "source": [
    "from numpy import *"
   ]
  },
  {
   "cell_type": "code",
   "execution_count": 2,
   "metadata": {},
   "outputs": [
    {
     "data": {
      "text/plain": [
       "array([[0.84933793, 0.96158267, 0.82384322, 0.26211021],\n",
       "       [0.71748453, 0.33890122, 0.29487554, 0.74545451],\n",
       "       [0.86179131, 0.46061277, 0.83798025, 0.2776578 ],\n",
       "       [0.71479206, 0.10080216, 0.12873552, 0.8528495 ]])"
      ]
     },
     "execution_count": 2,
     "metadata": {},
     "output_type": "execute_result"
    }
   ],
   "source": [
    "random.rand(4,4)"
   ]
  },
  {
   "cell_type": "markdown",
   "metadata": {},
   "source": [
    "## 调用mat()函数可以将数组转化为矩阵"
   ]
  },
  {
   "cell_type": "code",
   "execution_count": 3,
   "metadata": {},
   "outputs": [],
   "source": [
    "randMat = mat(random.rand(4,4))"
   ]
  },
  {
   "cell_type": "code",
   "execution_count": 4,
   "metadata": {},
   "outputs": [
    {
     "data": {
      "text/plain": [
       "matrix([[0.45089849, 0.40771879, 0.6398522 , 0.5530783 ],\n",
       "        [0.47163791, 0.40949623, 0.32114082, 0.26665495],\n",
       "        [0.97808532, 0.68198459, 0.53182707, 0.40085597],\n",
       "        [0.89261703, 0.30526079, 0.05583877, 0.39491997]])"
      ]
     },
     "execution_count": 4,
     "metadata": {},
     "output_type": "execute_result"
    }
   ],
   "source": [
    "randMat"
   ]
  },
  {
   "cell_type": "markdown",
   "metadata": {},
   "source": [
    "## 对矩阵进行求逆"
   ]
  },
  {
   "cell_type": "code",
   "execution_count": 6,
   "metadata": {},
   "outputs": [],
   "source": [
    "invRandMat = randMat.I"
   ]
  },
  {
   "cell_type": "code",
   "execution_count": 7,
   "metadata": {},
   "outputs": [
    {
     "data": {
      "text/plain": [
       "matrix([[ 0.29279778, -7.23325806,  3.96870974,  0.44556615],\n",
       "        [-2.73874849, 13.91593081, -5.06384253, -0.42068768],\n",
       "        [ 2.10058099, -9.80207189,  5.46877737, -1.87432107],\n",
       "        [ 1.15816471,  6.97831749, -5.82932061,  2.1152622 ]])"
      ]
     },
     "execution_count": 7,
     "metadata": {},
     "output_type": "execute_result"
    }
   ],
   "source": [
    "invRandMat"
   ]
  },
  {
   "cell_type": "code",
   "execution_count": 8,
   "metadata": {},
   "outputs": [
    {
     "data": {
      "text/plain": [
       "matrix([[ 1.00000000e+00, -1.77635684e-15,  8.88178420e-16,\n",
       "          1.11022302e-16],\n",
       "        [ 0.00000000e+00,  1.00000000e+00,  4.44089210e-16,\n",
       "          0.00000000e+00],\n",
       "        [ 0.00000000e+00,  1.77635684e-15,  1.00000000e+00,\n",
       "         -1.11022302e-16],\n",
       "        [ 1.11022302e-16,  0.00000000e+00,  4.44089210e-16,\n",
       "          1.00000000e+00]])"
      ]
     },
     "execution_count": 8,
     "metadata": {},
     "output_type": "execute_result"
    }
   ],
   "source": [
    "randMat * invRandMat ##求矩阵乘以矩阵的逆"
   ]
  },
  {
   "cell_type": "markdown",
   "metadata": {},
   "source": [
    "## 求单位矩阵得到的误差值"
   ]
  },
  {
   "cell_type": "code",
   "execution_count": 9,
   "metadata": {},
   "outputs": [],
   "source": [
    "myEye = randMat * invRandMat"
   ]
  },
  {
   "cell_type": "code",
   "execution_count": 12,
   "metadata": {},
   "outputs": [
    {
     "data": {
      "text/plain": [
       "matrix([[ 0.00000000e+00, -1.77635684e-15,  8.88178420e-16,\n",
       "          1.11022302e-16],\n",
       "        [ 0.00000000e+00,  8.88178420e-16,  4.44089210e-16,\n",
       "          0.00000000e+00],\n",
       "        [ 0.00000000e+00,  1.77635684e-15,  0.00000000e+00,\n",
       "         -1.11022302e-16],\n",
       "        [ 1.11022302e-16,  0.00000000e+00,  4.44089210e-16,\n",
       "          0.00000000e+00]])"
      ]
     },
     "execution_count": 12,
     "metadata": {},
     "output_type": "execute_result"
    }
   ],
   "source": [
    "myEye - eye(4)##eye(4)表示的就是4x4单位矩阵"
   ]
  },
  {
   "cell_type": "code",
   "execution_count": null,
   "metadata": {},
   "outputs": [],
   "source": []
  },
  {
   "cell_type": "code",
   "execution_count": null,
   "metadata": {},
   "outputs": [],
   "source": []
  }
 ],
 "metadata": {
  "kernelspec": {
   "display_name": "Python 3",
   "language": "python",
   "name": "python3"
  },
  "language_info": {
   "codemirror_mode": {
    "name": "ipython",
    "version": 3
   },
   "file_extension": ".py",
   "mimetype": "text/x-python",
   "name": "python",
   "nbconvert_exporter": "python",
   "pygments_lexer": "ipython3",
   "version": "3.6.5"
  }
 },
 "nbformat": 4,
 "nbformat_minor": 2
}
