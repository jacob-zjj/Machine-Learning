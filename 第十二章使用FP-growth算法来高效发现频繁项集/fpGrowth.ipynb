{
 "cells": [
  {
   "cell_type": "markdown",
   "metadata": {},
   "source": [
    "## FP树的类定义"
   ]
  },
  {
   "cell_type": "code",
   "execution_count": 9,
   "metadata": {},
   "outputs": [],
   "source": [
    "class treeNode:\n",
    "    def __init__(self,nameValue,numOccur,parentNode):\n",
    "        self.name = nameValue\n",
    "        self.count = numOccur\n",
    "        self.nodeLink = None\n",
    "        self.parent = parentNode\n",
    "        self.children = {}\n",
    "    def inc(self,numOccur):\n",
    "        self.count += numOccur\n",
    "    def disp(self,ind = 1):\n",
    "        #加上横线便于区分是父节点还是孩子节点         \n",
    "        print('-'*ind,self.name,' ',self.count)\n",
    "        for child in self.children.values():\n",
    "            child.disp(ind + 1)"
   ]
  },
  {
   "cell_type": "code",
   "execution_count": 10,
   "metadata": {},
   "outputs": [],
   "source": [
    "rootNode = treeNode('pyramid',9,None)"
   ]
  },
  {
   "cell_type": "code",
   "execution_count": 11,
   "metadata": {},
   "outputs": [],
   "source": [
    "rootNode.children['eye'] = treeNode('eye',13,None)\n",
    "# 创建树中一个单节点，为其增加一个子节点"
   ]
  },
  {
   "cell_type": "code",
   "execution_count": 12,
   "metadata": {},
   "outputs": [
    {
     "name": "stdout",
     "output_type": "stream",
     "text": [
      "- pyramid   9\n",
      "-- eye   13\n"
     ]
    }
   ],
   "source": [
    "rootNode.disp()"
   ]
  },
  {
   "cell_type": "code",
   "execution_count": 14,
   "metadata": {},
   "outputs": [],
   "source": [
    "# 再增加一个节点看看两个子节点的展示效果\n",
    "rootNode.children['phoenix'] = treeNode('phoenix',3,None)"
   ]
  },
  {
   "cell_type": "code",
   "execution_count": 15,
   "metadata": {},
   "outputs": [
    {
     "name": "stdout",
     "output_type": "stream",
     "text": [
      "- pyramid   9\n",
      "-- eye   13\n",
      "-- phoenix   3\n"
     ]
    }
   ],
   "source": [
    "rootNode.disp()"
   ]
  },
  {
   "cell_type": "markdown",
   "metadata": {},
   "source": [
    "## FP树构建函数"
   ]
  },
  {
   "cell_type": "code",
   "execution_count": 49,
   "metadata": {},
   "outputs": [],
   "source": [
    "#构建FP-tree\n",
    "def createTree(dataSet, minSup=1):\n",
    "    headerTable = {}\n",
    "    for trans in dataSet:  #第一次遍历：统计各个数据的频繁度\n",
    "        for item in trans:\n",
    "            headerTable[item] = headerTable.get(item, 0) + dataSet[trans]\n",
    "            #用头指针表统计各个类别的出现的次数，计算频繁量：头指针表[类别]=出现次数\n",
    "    for k in list(headerTable.keys()):  #删除未达到最小频繁度的数据\n",
    "        if headerTable[k] < minSup:\n",
    "            del (headerTable[k])\n",
    "    freqItemSet = set(headerTable.keys())#保存达到要求的数据\n",
    "    # print ('freqItemSet: ',freqItemSet)\n",
    "    if len(freqItemSet) == 0:\n",
    "        return None, None  #若达到要求的数目为0\n",
    "    for k in headerTable: #遍历头指针表\n",
    "        headerTable[k] = [headerTable[k], None]  #保存计数值及指向每种类型第一个元素项的指针\n",
    "    # print ('headerTable: ',headerTable)\n",
    "    retTree = treeNode('Null Set', 1, None)  #初始化tree\n",
    "    for tranSet, count in dataSet.items():  # 第二次遍历：\n",
    "        localD = {}\n",
    "        for item in tranSet:  # put transaction items in order\n",
    "            if item in freqItemSet:#只对频繁项集进行排序\n",
    "                localD[item] = headerTable[item][0]\n",
    "\n",
    "        #使用排序后的频率项集对树进行填充\n",
    "        if len(localD) > 0:\n",
    "            orderedItems = [v[0] for v in sorted(localD.items(), key=lambda p: p[1], reverse=True)]\n",
    "            updateTree(orderedItems, retTree, headerTable, count)  # populate tree with ordered freq itemset\n",
    "    return retTree, headerTable  #返回树和头指针表\n",
    "\n",
    "\n",
    "def updateTree(items, inTree, headerTable, count):\n",
    "    if items[0] in inTree.children:  # 首先检查是否存在该节点\n",
    "        inTree.children[items[0]].inc(count)  # 存在则计数增加\n",
    "    else:  # 不存在则将新建该节点\n",
    "        inTree.children[items[0]] = treeNode(items[0], count, inTree)#创建一个新节点\n",
    "        if headerTable[items[0]][1] == None:  # 若原来不存在该类别，更新头指针列表\n",
    "            headerTable[items[0]][1] = inTree.children[items[0]]#更新指向\n",
    "        else:#更新指向\n",
    "            updateHeader(headerTable[items[0]][1], inTree.children[items[0]])\n",
    "    if len(items) > 1:  #仍有未分配完的树，迭代\n",
    "        updateTree(items[1::], inTree.children[items[0]], headerTable, count)\n",
    "\n",
    "#节点链接指向树中该元素项的每一个实例。\n",
    "# 从头指针表的 nodeLink 开始,一直沿着nodeLink直到到达链表末尾\n",
    "def updateHeader(nodeToTest, targetNode):\n",
    "    while (nodeToTest.nodeLink != None):\n",
    "        nodeToTest = nodeToTest.nodeLink\n",
    "    nodeToTest.nodeLink = targetNode"
   ]
  },
  {
   "cell_type": "code",
   "execution_count": 50,
   "metadata": {},
   "outputs": [],
   "source": [
    "# 简单数据及数据包装器\n",
    "def loadSimpleDat():\n",
    "    simpDat = [\n",
    "        ['r','z','h','j','p'],\n",
    "        ['z','y','x','w','v','u','t','s'],\n",
    "        ['z'],\n",
    "        ['r','x','n','o','s'],\n",
    "        ['y','r','x','z','q','t','p'],\n",
    "        ['y','z','x','e','q','s','t','m']\n",
    "    ]\n",
    "    return simpDat\n",
    "def createInitSet(dataSet):\n",
    "    retDict = {}\n",
    "    for trans in dataSet:\n",
    "        retDict[frozenset(trans)] = 1\n",
    "    return retDict"
   ]
  },
  {
   "cell_type": "code",
   "execution_count": 51,
   "metadata": {},
   "outputs": [
    {
     "data": {
      "text/plain": [
       "[['r', 'z', 'h', 'j', 'p'],\n",
       " ['z', 'y', 'x', 'w', 'v', 'u', 't', 's'],\n",
       " ['z'],\n",
       " ['r', 'x', 'n', 'o', 's'],\n",
       " ['y', 'r', 'x', 'z', 'q', 't', 'p'],\n",
       " ['y', 'z', 'x', 'e', 'q', 's', 't', 'm']]"
      ]
     },
     "execution_count": 51,
     "metadata": {},
     "output_type": "execute_result"
    }
   ],
   "source": [
    "simpDat = loadSimpleDat()\n",
    "simpDat"
   ]
  },
  {
   "cell_type": "code",
   "execution_count": 52,
   "metadata": {},
   "outputs": [
    {
     "data": {
      "text/plain": [
       "{frozenset({'h', 'j', 'p', 'r', 'z'}): 1,\n",
       " frozenset({'s', 't', 'u', 'v', 'w', 'x', 'y', 'z'}): 1,\n",
       " frozenset({'z'}): 1,\n",
       " frozenset({'n', 'o', 'r', 's', 'x'}): 1,\n",
       " frozenset({'p', 'q', 'r', 't', 'x', 'y', 'z'}): 1,\n",
       " frozenset({'e', 'm', 'q', 's', 't', 'x', 'y', 'z'}): 1}"
      ]
     },
     "execution_count": 52,
     "metadata": {},
     "output_type": "execute_result"
    }
   ],
   "source": [
    "# 为了函数createTree(),需要对上面的数据进行格式化处理\n",
    "initSet = createInitSet(simpDat)\n",
    "# 将simpDat变成字典类型\n",
    "initSet"
   ]
  },
  {
   "cell_type": "code",
   "execution_count": 53,
   "metadata": {},
   "outputs": [],
   "source": [
    "# 创建Fp树\n",
    "myFPtree,myHeaderTab = createTree(initSet,3)"
   ]
  },
  {
   "cell_type": "code",
   "execution_count": 58,
   "metadata": {},
   "outputs": [
    {
     "data": {
      "text/plain": [
       "{'r': [3, <__main__.treeNode at 0x1a274d311d0>],\n",
       " 'z': [5, <__main__.treeNode at 0x1a274d31dd8>],\n",
       " 't': [3, <__main__.treeNode at 0x1a274d318d0>],\n",
       " 'y': [3, <__main__.treeNode at 0x1a274d31b70>],\n",
       " 's': [3, <__main__.treeNode at 0x1a274d31ac8>],\n",
       " 'x': [4, <__main__.treeNode at 0x1a274d310f0>]}"
      ]
     },
     "execution_count": 58,
     "metadata": {},
     "output_type": "execute_result"
    }
   ],
   "source": [
    "# myFPtree.disp()\n",
    "myHeaderTab"
   ]
  },
  {
   "cell_type": "markdown",
   "metadata": {},
   "source": [
    "## 发现以给定元素项结尾的所有路径的函数"
   ]
  },
  {
   "cell_type": "code",
   "execution_count": 59,
   "metadata": {},
   "outputs": [],
   "source": [
    "# 发现以给定元素项结尾的所有路径的函数\n",
    "def ascendTree(leafNode,prefixPath):\n",
    "    if leafNode.parent != None:\n",
    "        prefixPath.append(leafNode.name)\n",
    "        ascendTree(leafNode.parent,prefixPath)\n",
    "def findPrefixPath(basePat,treeNode):\n",
    "    condPats = {}\n",
    "    while treeNode != None:\n",
    "        prefixPath = []\n",
    "        ascendTree(treeNode,prefixPath)\n",
    "        if len(prefixPath) > 1:\n",
    "            condPats[frozenset(prefixPath[1:])] = treeNode.count\n",
    "        treeNode = treeNode.nodeLink\n",
    "    return condPats"
   ]
  },
  {
   "cell_type": "code",
   "execution_count": 62,
   "metadata": {},
   "outputs": [
    {
     "data": {
      "text/plain": [
       "{frozenset({'z'}): 1, frozenset({'s', 'x'}): 1, frozenset({'t', 'x', 'z'}): 1}"
      ]
     },
     "execution_count": 62,
     "metadata": {},
     "output_type": "execute_result"
    }
   ],
   "source": [
    "# findPrefixPath('x',myHeaderTab['x'][1])\n",
    "# findPrefixPath('z',myHeaderTab['z'][1])\n",
    "findPrefixPath('r',myHeaderTab['r'][1])"
   ]
  },
  {
   "cell_type": "markdown",
   "metadata": {},
   "source": [
    "## 创建条件FP树"
   ]
  },
  {
   "cell_type": "code",
   "execution_count": 69,
   "metadata": {},
   "outputs": [],
   "source": [
    "#递归查找频繁项集\n",
    "def mineTree(inTree, headerTable, minSup, preFix, freqItemList):\n",
    "    # 头指针表中的元素项按照频繁度排序,从小到大\n",
    "    bigL = [v[0] for v in sorted(headerTable.items(), key=lambda p: str(p[1]))]#python3修改\n",
    "    for basePat in bigL:  #从底层开始\n",
    "        #加入频繁项列表\n",
    "        newFreqSet = preFix.copy()\n",
    "        newFreqSet.add(basePat)\n",
    "        freqItemList.append(newFreqSet)\n",
    "        #递归调用函数来创建基\n",
    "        condPattBases = findPrefixPath(basePat, headerTable[basePat][1])\n",
    "        #2. 构建条件模式Tree\n",
    "        myCondTree, myHead = createTree(condPattBases, minSup)\n",
    "        #将创建的条件基作为新的数据集添加到fp-tree\n",
    "        if myHead != None: #3. 递归\n",
    "            print ('conditional tree for: ',newFreqSet)\n",
    "            myCondTree.disp(1)\n",
    "            mineTree(myCondTree, myHead, minSup, newFreqSet, freqItemList)"
   ]
  },
  {
   "cell_type": "code",
   "execution_count": 70,
   "metadata": {},
   "outputs": [],
   "source": [
    "freqItems = []"
   ]
  },
  {
   "cell_type": "code",
   "execution_count": 71,
   "metadata": {
    "scrolled": true
   },
   "outputs": [
    {
     "name": "stdout",
     "output_type": "stream",
     "text": [
      "conditional tree for:  {'t'}\n",
      "- Null Set   1\n",
      "-- x   3\n",
      "--- z   3\n",
      "conditional tree for:  {'z', 't'}\n",
      "- Null Set   1\n",
      "-- x   3\n",
      "conditional tree for:  {'s'}\n",
      "- Null Set   1\n",
      "-- x   3\n",
      "conditional tree for:  {'y'}\n",
      "- Null Set   1\n",
      "-- x   3\n",
      "--- z   3\n",
      "---- t   3\n",
      "conditional tree for:  {'z', 'y'}\n",
      "- Null Set   1\n",
      "-- x   3\n",
      "conditional tree for:  {'t', 'y'}\n",
      "- Null Set   1\n",
      "-- x   3\n",
      "--- z   3\n",
      "conditional tree for:  {'z', 't', 'y'}\n",
      "- Null Set   1\n",
      "-- x   3\n",
      "conditional tree for:  {'x'}\n",
      "- Null Set   1\n",
      "-- z   3\n"
     ]
    }
   ],
   "source": [
    "mineTree(myFPtree,myHeaderTab,3,set([]),freqItems)"
   ]
  },
  {
   "cell_type": "code",
   "execution_count": 72,
   "metadata": {},
   "outputs": [
    {
     "data": {
      "text/plain": [
       "[{'r'},\n",
       " {'t'},\n",
       " {'t', 'z'},\n",
       " {'t', 'x', 'z'},\n",
       " {'t', 'x'},\n",
       " {'s'},\n",
       " {'s', 'x'},\n",
       " {'y'},\n",
       " {'y', 'z'},\n",
       " {'x', 'y', 'z'},\n",
       " {'x', 'y'},\n",
       " {'t', 'y'},\n",
       " {'t', 'x', 'y'},\n",
       " {'t', 'y', 'z'},\n",
       " {'t', 'x', 'y', 'z'},\n",
       " {'x'},\n",
       " {'x', 'z'},\n",
       " {'z'}]"
      ]
     },
     "execution_count": 72,
     "metadata": {},
     "output_type": "execute_result"
    }
   ],
   "source": [
    "freqItems"
   ]
  },
  {
   "cell_type": "code",
   "execution_count": null,
   "metadata": {},
   "outputs": [],
   "source": []
  }
 ],
 "metadata": {
  "kernelspec": {
   "display_name": "Python 3",
   "language": "python",
   "name": "python3"
  },
  "language_info": {
   "codemirror_mode": {
    "name": "ipython",
    "version": 3
   },
   "file_extension": ".py",
   "mimetype": "text/x-python",
   "name": "python",
   "nbconvert_exporter": "python",
   "pygments_lexer": "ipython3",
   "version": "3.7.0"
  }
 },
 "nbformat": 4,
 "nbformat_minor": 2
}
