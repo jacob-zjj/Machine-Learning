{
 "cells": [
  {
   "cell_type": "markdown",
   "metadata": {},
   "source": [
    "## CART算法的代码实现"
   ]
  },
  {
   "cell_type": "code",
   "execution_count": 1,
   "metadata": {},
   "outputs": [],
   "source": [
    "# CART算法的代码实现\n",
    "from numpy import *\n",
    "def loadDataSet(fileName):\n",
    "    dataMat = []\n",
    "    fr = open(fileName)\n",
    "    for line in fr.readlines():\n",
    "        curLine = line.strip().split('\\t')\n",
    "        # 转换成float类型\n",
    "#         fltLine = map(float,curLine)\n",
    "        fltLine = list(map(float,curLine))\n",
    "        dataMat.append(fltLine)\n",
    "    return dataMat\n",
    "def binSplitDataSet(dataSet,feature,value):\n",
    "    mat0 = dataSet[nonzero(dataSet[:,feature] > value)[0],:]\n",
    "    mat1 = dataSet[nonzero(dataSet[:,feature] <= value)[0],:]\n",
    "    return mat0,mat1"
   ]
  },
  {
   "cell_type": "code",
   "execution_count": 2,
   "metadata": {},
   "outputs": [
    {
     "data": {
      "text/plain": [
       "matrix([[1., 0., 0., 0.],\n",
       "        [0., 1., 0., 0.],\n",
       "        [0., 0., 1., 0.],\n",
       "        [0., 0., 0., 1.]])"
      ]
     },
     "execution_count": 2,
     "metadata": {},
     "output_type": "execute_result"
    }
   ],
   "source": [
    "testMat = mat(eye(4))\n",
    "testMat"
   ]
  },
  {
   "cell_type": "code",
   "execution_count": 3,
   "metadata": {},
   "outputs": [],
   "source": [
    "# testMat\n",
    "mat0,mat1 = binSplitDataSet(testMat,1,0.5)"
   ]
  },
  {
   "cell_type": "code",
   "execution_count": 4,
   "metadata": {},
   "outputs": [
    {
     "data": {
      "text/plain": [
       "matrix([[0., 1., 0., 0.]])"
      ]
     },
     "execution_count": 4,
     "metadata": {},
     "output_type": "execute_result"
    }
   ],
   "source": [
    "mat0"
   ]
  },
  {
   "cell_type": "code",
   "execution_count": 5,
   "metadata": {},
   "outputs": [
    {
     "data": {
      "text/plain": [
       "matrix([[1., 0., 0., 0.],\n",
       "        [0., 0., 1., 0.],\n",
       "        [0., 0., 0., 1.]])"
      ]
     },
     "execution_count": 5,
     "metadata": {},
     "output_type": "execute_result"
    }
   ],
   "source": [
    "mat1"
   ]
  },
  {
   "cell_type": "code",
   "execution_count": 6,
   "metadata": {},
   "outputs": [],
   "source": [
    "def regLeaf(dataSet):\n",
    "    return mean(dataSet[:,-1])\n",
    "def regErr(dataSet):\n",
    "    return var(dataSet[:,-1]) * shape(dataSet)[0]"
   ]
  },
  {
   "cell_type": "code",
   "execution_count": 7,
   "metadata": {},
   "outputs": [],
   "source": [
    "def creatTree(dataSet,leafType = regLeaf,errType = regErr,ops = (1,4)):\n",
    "    feat,val = chooseBestSplit(dataSet,leafType,errType,ops)\n",
    "    if feat == None:\n",
    "        return val\n",
    "    retTree = {}\n",
    "    retTree['spInd'] = feat\n",
    "    retTree['spVal'] = val\n",
    "    lSet,rSet = binSplitDataSet(dataSet,feat,val)\n",
    "    retTree['left'] = creatTree(lSet,leafType,errType,ops)\n",
    "    retTree['right'] = creatTree(rSet,leafType,errType,ops)\n",
    "    return retTree"
   ]
  },
  {
   "cell_type": "markdown",
   "metadata": {},
   "source": [
    "## 将CART算法用于回归"
   ]
  },
  {
   "cell_type": "markdown",
   "metadata": {},
   "source": [
    "## 回归树的切分函数"
   ]
  },
  {
   "cell_type": "code",
   "execution_count": 8,
   "metadata": {},
   "outputs": [],
   "source": [
    "# 回归树的切分函数\n",
    "\n",
    "def chooseBestSplit(dataSet,leafType = regLeaf,errType = regErr,ops = (1,4)):\n",
    "    tolS = ops[0]\n",
    "    tolN = ops[1]\n",
    "    if len(set(dataSet[:,-1].T.tolist()[0])) == 1:\n",
    "        return None,leafType(dataSet)\n",
    "    m,n = shape(dataSet)\n",
    "    S = errType(dataSet)\n",
    "    bestS = inf\n",
    "    bestIndex = 0\n",
    "    bestValue = 0\n",
    "    for featIndex in range(n-1):\n",
    "        for splitVal in set((dataSet[:,featIndex].T.A.tolist())[0]):\n",
    "            mat0,mat1 = binSplitDataSet(dataSet,featIndex,splitVal)\n",
    "            if (shape(mat0)[0] < tolN) or (shape(mat1)[0] < tolN):\n",
    "                continue\n",
    "            newS = errType(mat0) + errType(mat1)\n",
    "            if newS < bestS:\n",
    "                bestIndex =  featIndex\n",
    "                bestValue = splitVal\n",
    "                bestS = newS\n",
    "    if (S - bestS) < tolS:\n",
    "        return None,leafType(dataSet)\n",
    "    mat0,mat1 = binSplitDataSet(dataSet,bestIndex,bestValue)\n",
    "    if (shape(mat0)[0] < tolN) or (shape(mat1)[0] < tolN):\n",
    "        return None,leafType(dataSet)\n",
    "    return bestIndex,bestValue"
   ]
  },
  {
   "cell_type": "code",
   "execution_count": 9,
   "metadata": {},
   "outputs": [],
   "source": [
    "from numpy import *"
   ]
  },
  {
   "cell_type": "code",
   "execution_count": 10,
   "metadata": {},
   "outputs": [],
   "source": [
    "myDat = loadDataSet('ex00.txt')"
   ]
  },
  {
   "cell_type": "code",
   "execution_count": 11,
   "metadata": {},
   "outputs": [],
   "source": [
    "myMat = mat(myDat)"
   ]
  },
  {
   "cell_type": "code",
   "execution_count": 12,
   "metadata": {},
   "outputs": [
    {
     "data": {
      "text/plain": [
       "{'spInd': 0,\n",
       " 'spVal': 0.48813,\n",
       " 'left': 1.0180967672413792,\n",
       " 'right': -0.04465028571428572}"
      ]
     },
     "execution_count": 12,
     "metadata": {},
     "output_type": "execute_result"
    }
   ],
   "source": [
    "creatTree(myMat)"
   ]
  },
  {
   "cell_type": "code",
   "execution_count": 13,
   "metadata": {
    "scrolled": true
   },
   "outputs": [
    {
     "data": {
      "text/plain": [
       "{'spInd': 1,\n",
       " 'spVal': 0.39435,\n",
       " 'left': {'spInd': 1,\n",
       "  'spVal': 0.582002,\n",
       "  'left': {'spInd': 1,\n",
       "   'spVal': 0.797583,\n",
       "   'left': 3.9871632,\n",
       "   'right': 2.9836209534883724},\n",
       "  'right': 1.980035071428571},\n",
       " 'right': {'spInd': 1,\n",
       "  'spVal': 0.197834,\n",
       "  'left': 1.0289583666666666,\n",
       "  'right': -0.023838155555555553}}"
      ]
     },
     "execution_count": 13,
     "metadata": {},
     "output_type": "execute_result"
    }
   ],
   "source": [
    "myDat1 = loadDataSet('ex0.txt')\n",
    "myMat1 = mat(myDat1)\n",
    "creatTree(myMat1)"
   ]
  },
  {
   "cell_type": "markdown",
   "metadata": {},
   "source": [
    "## 预剪枝"
   ]
  },
  {
   "cell_type": "code",
   "execution_count": 14,
   "metadata": {
    "scrolled": true
   },
   "outputs": [],
   "source": [
    "myDat2 = loadDataSet('ex2.txt')\n",
    "myMat2 = mat(myDat2)"
   ]
  },
  {
   "cell_type": "code",
   "execution_count": 15,
   "metadata": {
    "scrolled": true
   },
   "outputs": [
    {
     "data": {
      "text/plain": [
       "{'spInd': 0,\n",
       " 'spVal': 0.499171,\n",
       " 'left': 101.35815937735848,\n",
       " 'right': -2.637719329787234}"
      ]
     },
     "execution_count": 15,
     "metadata": {},
     "output_type": "execute_result"
    }
   ],
   "source": [
    "# creatTree(myMat2)\n",
    "creatTree(myMat2,ops=(10000,4))"
   ]
  },
  {
   "cell_type": "markdown",
   "metadata": {},
   "source": [
    "## 回归树剪枝函数"
   ]
  },
  {
   "cell_type": "code",
   "execution_count": 16,
   "metadata": {},
   "outputs": [],
   "source": [
    "# 回归树剪枝函数\n",
    "def isTree(obj):\n",
    "    return (type(obj).__name__ == 'dict')\n",
    "def getMean(tree):\n",
    "    if isTree(tree['right']):\n",
    "        tree['right'] = getMean(tree['right'])\n",
    "    if isTree(tree['left']):\n",
    "        tree['left'] = getMean(tree['left'])\n",
    "    return (tree['left'] + tree['right']) / 2.0\n",
    "#树的后剪枝\n",
    "def prune(tree, testData):#待剪枝的树和剪枝所需的测试数据\n",
    "    if shape(testData)[0] == 0: return getMean(tree)  # 确认数据集非空\n",
    "    #假设发生过拟合，采用测试数据对树进行剪枝\n",
    "    if (isTree(tree['right']) or isTree(tree['left'])): #左右子树非空\n",
    "        lSet, rSet = binSplitDataSet(testData, tree['spInd'], tree['spVal'])\n",
    "    if isTree(tree['left']): tree['left'] = prune(tree['left'], lSet)\n",
    "    if isTree(tree['right']): tree['right'] = prune(tree['right'], rSet)\n",
    "    #剪枝后判断是否还是有子树\n",
    "    if not isTree(tree['left']) and not isTree(tree['right']):\n",
    "        lSet, rSet = binSplitDataSet(testData, tree['spInd'], tree['spVal'])\n",
    "        #判断是否merge\n",
    "        errorNoMerge = sum(power(lSet[:, -1] - tree['left'], 2)) + \\\n",
    "                       sum(power(rSet[:, -1] - tree['right'], 2))\n",
    "        treeMean = (tree['left'] + tree['right']) / 2.0\n",
    "        errorMerge = sum(power(testData[:, -1] - treeMean, 2))\n",
    "        #如果合并后误差变小\n",
    "        if errorMerge < errorNoMerge:\n",
    "            print(\"merging\")\n",
    "            return treeMean\n",
    "        else:\n",
    "            return tree\n",
    "    else:\n",
    "        return tree"
   ]
  },
  {
   "cell_type": "code",
   "execution_count": 17,
   "metadata": {},
   "outputs": [],
   "source": [
    "myTree = creatTree(myMat2,ops = (0,1))"
   ]
  },
  {
   "cell_type": "code",
   "execution_count": 18,
   "metadata": {},
   "outputs": [],
   "source": [
    "myDatTest = loadDataSet('ex2test.txt')"
   ]
  },
  {
   "cell_type": "code",
   "execution_count": 19,
   "metadata": {},
   "outputs": [],
   "source": [
    "myMat2Test = mat(myDatTest)"
   ]
  },
  {
   "cell_type": "code",
   "execution_count": 20,
   "metadata": {
    "scrolled": true
   },
   "outputs": [
    {
     "name": "stdout",
     "output_type": "stream",
     "text": [
      "merging\n",
      "merging\n",
      "merging\n",
      "merging\n",
      "merging\n",
      "merging\n",
      "merging\n",
      "merging\n",
      "merging\n",
      "merging\n",
      "merging\n",
      "merging\n",
      "merging\n",
      "merging\n",
      "merging\n",
      "merging\n",
      "merging\n",
      "merging\n",
      "merging\n",
      "merging\n",
      "merging\n",
      "merging\n",
      "merging\n",
      "merging\n",
      "merging\n",
      "merging\n",
      "merging\n",
      "merging\n",
      "merging\n",
      "merging\n",
      "merging\n",
      "merging\n",
      "merging\n",
      "merging\n",
      "merging\n",
      "merging\n",
      "merging\n",
      "merging\n",
      "merging\n",
      "merging\n",
      "merging\n",
      "merging\n",
      "merging\n",
      "merging\n"
     ]
    },
    {
     "data": {
      "text/plain": [
       "{'spInd': 0,\n",
       " 'spVal': 0.499171,\n",
       " 'left': {'spInd': 0,\n",
       "  'spVal': 0.729397,\n",
       "  'left': {'spInd': 0,\n",
       "   'spVal': 0.952833,\n",
       "   'left': {'spInd': 0,\n",
       "    'spVal': 0.965969,\n",
       "    'left': 92.5239915,\n",
       "    'right': {'spInd': 0,\n",
       "     'spVal': 0.956951,\n",
       "     'left': {'spInd': 0,\n",
       "      'spVal': 0.958512,\n",
       "      'left': {'spInd': 0,\n",
       "       'spVal': 0.960398,\n",
       "       'left': 112.386764,\n",
       "       'right': 123.559747},\n",
       "      'right': 135.837013},\n",
       "     'right': 111.2013225}},\n",
       "   'right': {'spInd': 0,\n",
       "    'spVal': 0.759504,\n",
       "    'left': {'spInd': 0,\n",
       "     'spVal': 0.763328,\n",
       "     'left': {'spInd': 0,\n",
       "      'spVal': 0.769043,\n",
       "      'left': {'spInd': 0,\n",
       "       'spVal': 0.790312,\n",
       "       'left': {'spInd': 0,\n",
       "        'spVal': 0.806158,\n",
       "        'left': {'spInd': 0,\n",
       "         'spVal': 0.815215,\n",
       "         'left': {'spInd': 0,\n",
       "          'spVal': 0.833026,\n",
       "          'left': {'spInd': 0,\n",
       "           'spVal': 0.841547,\n",
       "           'left': {'spInd': 0,\n",
       "            'spVal': 0.841625,\n",
       "            'left': {'spInd': 0,\n",
       "             'spVal': 0.944221,\n",
       "             'left': {'spInd': 0,\n",
       "              'spVal': 0.948822,\n",
       "              'left': 96.41885225,\n",
       "              'right': 69.318649},\n",
       "             'right': {'spInd': 0,\n",
       "              'spVal': 0.85497,\n",
       "              'left': {'spInd': 0,\n",
       "               'spVal': 0.936524,\n",
       "               'left': 110.03503850000001,\n",
       "               'right': {'spInd': 0,\n",
       "                'spVal': 0.934853,\n",
       "                'left': 65.548418,\n",
       "                'right': {'spInd': 0,\n",
       "                 'spVal': 0.925782,\n",
       "                 'left': 115.753994,\n",
       "                 'right': {'spInd': 0,\n",
       "                  'spVal': 0.910975,\n",
       "                  'left': {'spInd': 0,\n",
       "                   'spVal': 0.912161,\n",
       "                   'left': 94.3961145,\n",
       "                   'right': 85.005351},\n",
       "                  'right': {'spInd': 0,\n",
       "                   'spVal': 0.901444,\n",
       "                   'left': {'spInd': 0,\n",
       "                    'spVal': 0.908629,\n",
       "                    'left': 106.814667,\n",
       "                    'right': 118.513475},\n",
       "                   'right': {'spInd': 0,\n",
       "                    'spVal': 0.901421,\n",
       "                    'left': 87.300625,\n",
       "                    'right': {'spInd': 0,\n",
       "                     'spVal': 0.892999,\n",
       "                     'left': {'spInd': 0,\n",
       "                      'spVal': 0.900699,\n",
       "                      'left': 100.133819,\n",
       "                      'right': 108.094934},\n",
       "                     'right': {'spInd': 0,\n",
       "                      'spVal': 0.888426,\n",
       "                      'left': 82.436686,\n",
       "                      'right': {'spInd': 0,\n",
       "                       'spVal': 0.872199,\n",
       "                       'left': 98.54454949999999,\n",
       "                       'right': 106.16859550000001}}}}}}}}},\n",
       "              'right': {'spInd': 0,\n",
       "               'spVal': 0.84294,\n",
       "               'left': {'spInd': 0,\n",
       "                'spVal': 0.847219,\n",
       "                'left': 89.20993,\n",
       "                'right': 76.240984},\n",
       "               'right': 95.893131}}},\n",
       "            'right': 60.552308},\n",
       "           'right': 124.87935300000001},\n",
       "          'right': {'spInd': 0,\n",
       "           'spVal': 0.823848,\n",
       "           'left': 76.723835,\n",
       "           'right': {'spInd': 0,\n",
       "            'spVal': 0.819722,\n",
       "            'left': 59.342323,\n",
       "            'right': 70.054508}}},\n",
       "         'right': {'spInd': 0,\n",
       "          'spVal': 0.811602,\n",
       "          'left': 118.319942,\n",
       "          'right': {'spInd': 0,\n",
       "           'spVal': 0.811363,\n",
       "           'left': 99.841379,\n",
       "           'right': 112.981216}}},\n",
       "        'right': 73.49439925},\n",
       "       'right': {'spInd': 0,\n",
       "        'spVal': 0.786865,\n",
       "        'left': 114.4008695,\n",
       "        'right': 102.26514075}},\n",
       "      'right': 64.041941},\n",
       "     'right': 115.199195},\n",
       "    'right': 78.08564325}},\n",
       "  'right': {'spInd': 0,\n",
       "   'spVal': 0.640515,\n",
       "   'left': {'spInd': 0,\n",
       "    'spVal': 0.642373,\n",
       "    'left': {'spInd': 0,\n",
       "     'spVal': 0.642707,\n",
       "     'left': {'spInd': 0,\n",
       "      'spVal': 0.665329,\n",
       "      'left': {'spInd': 0,\n",
       "       'spVal': 0.706961,\n",
       "       'left': {'spInd': 0,\n",
       "        'spVal': 0.70889,\n",
       "        'left': {'spInd': 0,\n",
       "         'spVal': 0.716211,\n",
       "         'left': 110.90283,\n",
       "         'right': {'spInd': 0,\n",
       "          'spVal': 0.710234,\n",
       "          'left': 103.345308,\n",
       "          'right': 108.553919}},\n",
       "        'right': 135.416767},\n",
       "       'right': {'spInd': 0,\n",
       "        'spVal': 0.698472,\n",
       "        'left': {'spInd': 0,\n",
       "         'spVal': 0.69892,\n",
       "         'left': {'spInd': 0,\n",
       "          'spVal': 0.699873,\n",
       "          'left': {'spInd': 0,\n",
       "           'spVal': 0.70639,\n",
       "           'left': 106.180427,\n",
       "           'right': 105.062147},\n",
       "          'right': 115.586605},\n",
       "         'right': 92.470636},\n",
       "        'right': {'spInd': 0,\n",
       "         'spVal': 0.689099,\n",
       "         'left': 120.521925,\n",
       "         'right': {'spInd': 0,\n",
       "          'spVal': 0.666452,\n",
       "          'left': 101.91115275,\n",
       "          'right': 112.78136649999999}}}},\n",
       "      'right': {'spInd': 0,\n",
       "       'spVal': 0.661073,\n",
       "       'left': 121.980607,\n",
       "       'right': {'spInd': 0,\n",
       "        'spVal': 0.652462,\n",
       "        'left': 115.687524,\n",
       "        'right': 112.715799}}},\n",
       "     'right': 82.500766},\n",
       "    'right': 140.613941},\n",
       "   'right': {'spInd': 0,\n",
       "    'spVal': 0.613004,\n",
       "    'left': {'spInd': 0,\n",
       "     'spVal': 0.623909,\n",
       "     'left': {'spInd': 0,\n",
       "      'spVal': 0.628061,\n",
       "      'left': {'spInd': 0,\n",
       "       'spVal': 0.637999,\n",
       "       'left': 82.713621,\n",
       "       'right': {'spInd': 0,\n",
       "        'spVal': 0.632691,\n",
       "        'left': 91.656617,\n",
       "        'right': 93.645293}},\n",
       "      'right': {'spInd': 0,\n",
       "       'spVal': 0.624827,\n",
       "       'left': 117.628346,\n",
       "       'right': 105.970743}},\n",
       "     'right': 82.04976400000001},\n",
       "    'right': {'spInd': 0,\n",
       "     'spVal': 0.606417,\n",
       "     'left': 168.180746,\n",
       "     'right': {'spInd': 0,\n",
       "      'spVal': 0.513332,\n",
       "      'left': {'spInd': 0,\n",
       "       'spVal': 0.533511,\n",
       "       'left': {'spInd': 0,\n",
       "        'spVal': 0.548539,\n",
       "        'left': {'spInd': 0,\n",
       "         'spVal': 0.553797,\n",
       "         'left': {'spInd': 0,\n",
       "          'spVal': 0.560301,\n",
       "          'left': {'spInd': 0,\n",
       "           'spVal': 0.599142,\n",
       "           'left': 93.521396,\n",
       "           'right': {'spInd': 0,\n",
       "            'spVal': 0.589806,\n",
       "            'left': 130.378529,\n",
       "            'right': {'spInd': 0,\n",
       "             'spVal': 0.582311,\n",
       "             'left': 111.9849935,\n",
       "             'right': {'spInd': 0,\n",
       "              'spVal': 0.571214,\n",
       "              'left': 82.589328,\n",
       "              'right': {'spInd': 0,\n",
       "               'spVal': 0.569327,\n",
       "               'left': 114.872056,\n",
       "               'right': 108.435392}}}}},\n",
       "          'right': 82.903945},\n",
       "         'right': 129.0624485},\n",
       "        'right': {'spInd': 0,\n",
       "         'spVal': 0.546601,\n",
       "         'left': 83.114502,\n",
       "         'right': {'spInd': 0,\n",
       "          'spVal': 0.537834,\n",
       "          'left': 97.3405265,\n",
       "          'right': 90.995536}}},\n",
       "       'right': {'spInd': 0,\n",
       "        'spVal': 0.51915,\n",
       "        'left': {'spInd': 0,\n",
       "         'spVal': 0.531944,\n",
       "         'left': 129.766743,\n",
       "         'right': 124.795495},\n",
       "        'right': 116.176162}},\n",
       "      'right': {'spInd': 0,\n",
       "       'spVal': 0.508548,\n",
       "       'left': 101.075609,\n",
       "       'right': {'spInd': 0,\n",
       "        'spVal': 0.508542,\n",
       "        'left': 93.292829,\n",
       "        'right': 96.403373}}}}}}},\n",
       " 'right': {'spInd': 0,\n",
       "  'spVal': 0.457563,\n",
       "  'left': {'spInd': 0,\n",
       "   'spVal': 0.465561,\n",
       "   'left': {'spInd': 0,\n",
       "    'spVal': 0.467383,\n",
       "    'left': {'spInd': 0,\n",
       "     'spVal': 0.483803,\n",
       "     'left': {'spInd': 0,\n",
       "      'spVal': 0.487381,\n",
       "      'left': 8.53677,\n",
       "      'right': 27.729263},\n",
       "     'right': 5.224234},\n",
       "    'right': {'spInd': 0,\n",
       "     'spVal': 0.46568,\n",
       "     'left': -9.712925,\n",
       "     'right': -23.777531}},\n",
       "   'right': {'spInd': 0,\n",
       "    'spVal': 0.463241,\n",
       "    'left': 30.051931,\n",
       "    'right': 17.171057}},\n",
       "  'right': {'spInd': 0,\n",
       "   'spVal': 0.455761,\n",
       "   'left': -34.044555,\n",
       "   'right': {'spInd': 0,\n",
       "    'spVal': 0.126833,\n",
       "    'left': {'spInd': 0,\n",
       "     'spVal': 0.130626,\n",
       "     'left': {'spInd': 0,\n",
       "      'spVal': 0.382037,\n",
       "      'left': {'spInd': 0,\n",
       "       'spVal': 0.388789,\n",
       "       'left': {'spInd': 0,\n",
       "        'spVal': 0.437652,\n",
       "        'left': -4.1911745,\n",
       "        'right': {'spInd': 0,\n",
       "         'spVal': 0.412516,\n",
       "         'left': {'spInd': 0,\n",
       "          'spVal': 0.418943,\n",
       "          'left': {'spInd': 0,\n",
       "           'spVal': 0.426711,\n",
       "           'left': {'spInd': 0,\n",
       "            'spVal': 0.428582,\n",
       "            'left': 19.745224,\n",
       "            'right': 15.224266},\n",
       "           'right': -21.594268},\n",
       "          'right': 44.161493},\n",
       "         'right': {'spInd': 0,\n",
       "          'spVal': 0.403228,\n",
       "          'left': -26.419289,\n",
       "          'right': 0.6359300000000001}}},\n",
       "       'right': 23.197474},\n",
       "      'right': {'spInd': 0,\n",
       "       'spVal': 0.335182,\n",
       "       'left': {'spInd': 0,\n",
       "        'spVal': 0.370042,\n",
       "        'left': {'spInd': 0,\n",
       "         'spVal': 0.378965,\n",
       "         'left': -29.007783,\n",
       "         'right': {'spInd': 0,\n",
       "          'spVal': 0.373501,\n",
       "          'left': {'spInd': 0,\n",
       "           'spVal': 0.377383,\n",
       "           'left': 13.583555,\n",
       "           'right': 5.241196},\n",
       "          'right': -8.228297}},\n",
       "        'right': {'spInd': 0,\n",
       "         'spVal': 0.35679,\n",
       "         'left': -32.124495,\n",
       "         'right': {'spInd': 0,\n",
       "          'spVal': 0.350725,\n",
       "          'left': -9.9938275,\n",
       "          'right': -26.851234812500003}}},\n",
       "       'right': {'spInd': 0,\n",
       "        'spVal': 0.324274,\n",
       "        'left': 22.286959625,\n",
       "        'right': {'spInd': 0,\n",
       "         'spVal': 0.309133,\n",
       "         'left': {'spInd': 0,\n",
       "          'spVal': 0.310956,\n",
       "          'left': -20.3973335,\n",
       "          'right': -49.939516},\n",
       "         'right': {'spInd': 0,\n",
       "          'spVal': 0.131833,\n",
       "          'left': {'spInd': 0,\n",
       "           'spVal': 0.138619,\n",
       "           'left': {'spInd': 0,\n",
       "            'spVal': 0.156067,\n",
       "            'left': {'spInd': 0,\n",
       "             'spVal': 0.166765,\n",
       "             'left': {'spInd': 0,\n",
       "              'spVal': 0.193282,\n",
       "              'left': {'spInd': 0,\n",
       "               'spVal': 0.211633,\n",
       "               'left': {'spInd': 0,\n",
       "                'spVal': 0.228473,\n",
       "                'left': {'spInd': 0,\n",
       "                 'spVal': 0.25807,\n",
       "                 'left': {'spInd': 0,\n",
       "                  'spVal': 0.284794,\n",
       "                  'left': {'spInd': 0,\n",
       "                   'spVal': 0.300318,\n",
       "                   'left': 8.814725,\n",
       "                   'right': {'spInd': 0,\n",
       "                    'spVal': 0.297107,\n",
       "                    'left': -18.051318,\n",
       "                    'right': {'spInd': 0,\n",
       "                     'spVal': 0.295993,\n",
       "                     'left': -1.798377,\n",
       "                     'right': {'spInd': 0,\n",
       "                      'spVal': 0.290749,\n",
       "                      'left': -14.988279,\n",
       "                      'right': -14.391613}}}},\n",
       "                  'right': {'spInd': 0,\n",
       "                   'spVal': 0.273863,\n",
       "                   'left': 35.623746,\n",
       "                   'right': {'spInd': 0,\n",
       "                    'spVal': 0.264926,\n",
       "                    'left': -9.457556,\n",
       "                    'right': {'spInd': 0,\n",
       "                     'spVal': 0.264639,\n",
       "                     'left': 5.280579,\n",
       "                     'right': 2.557923}}}},\n",
       "                 'right': {'spInd': 0,\n",
       "                  'spVal': 0.228628,\n",
       "                  'left': {'spInd': 0,\n",
       "                   'spVal': 0.228751,\n",
       "                   'left': -9.601409499999999,\n",
       "                   'right': -30.812912},\n",
       "                  'right': -2.266273}},\n",
       "                'right': 6.099239},\n",
       "               'right': {'spInd': 0,\n",
       "                'spVal': 0.202161,\n",
       "                'left': -16.42737025,\n",
       "                'right': -2.6781805}},\n",
       "              'right': 9.5773855},\n",
       "             'right': {'spInd': 0,\n",
       "              'spVal': 0.156273,\n",
       "              'left': {'spInd': 0,\n",
       "               'spVal': 0.164134,\n",
       "               'left': {'spInd': 0,\n",
       "                'spVal': 0.166431,\n",
       "                'left': -14.740059,\n",
       "                'right': -6.512506},\n",
       "               'right': -27.405211},\n",
       "              'right': 0.225886}},\n",
       "            'right': {'spInd': 0,\n",
       "             'spVal': 0.13988,\n",
       "             'left': 7.557349,\n",
       "             'right': 7.336784}},\n",
       "           'right': -29.087463},\n",
       "          'right': 22.478291}}}}},\n",
       "     'right': -39.524461},\n",
       "    'right': {'spInd': 0,\n",
       "     'spVal': 0.124723,\n",
       "     'left': 22.891675,\n",
       "     'right': {'spInd': 0,\n",
       "      'spVal': 0.085111,\n",
       "      'left': {'spInd': 0,\n",
       "       'spVal': 0.108801,\n",
       "       'left': 6.196516,\n",
       "       'right': {'spInd': 0,\n",
       "        'spVal': 0.10796,\n",
       "        'left': -16.106164,\n",
       "        'right': {'spInd': 0,\n",
       "         'spVal': 0.085873,\n",
       "         'left': -1.293195,\n",
       "         'right': -10.137104}}},\n",
       "      'right': {'spInd': 0,\n",
       "       'spVal': 0.084661,\n",
       "       'left': 37.820659,\n",
       "       'right': {'spInd': 0,\n",
       "        'spVal': 0.080061,\n",
       "        'left': -24.132226,\n",
       "        'right': {'spInd': 0,\n",
       "         'spVal': 0.068373,\n",
       "         'left': 15.824970500000001,\n",
       "         'right': {'spInd': 0,\n",
       "          'spVal': 0.061219,\n",
       "          'left': -15.160836,\n",
       "          'right': {'spInd': 0,\n",
       "           'spVal': 0.044737,\n",
       "           'left': {'spInd': 0,\n",
       "            'spVal': 0.053764,\n",
       "            'left': {'spInd': 0,\n",
       "             'spVal': 0.055862,\n",
       "             'left': 6.695567,\n",
       "             'right': -3.131497},\n",
       "            'right': -13.731698},\n",
       "           'right': 4.091626}}}}}}}}}}}"
      ]
     },
     "execution_count": 20,
     "metadata": {},
     "output_type": "execute_result"
    }
   ],
   "source": [
    "prune(myTree,myMat2Test)"
   ]
  },
  {
   "cell_type": "markdown",
   "metadata": {},
   "source": [
    "## 模型树的叶节点生成函数"
   ]
  },
  {
   "cell_type": "code",
   "execution_count": 21,
   "metadata": {},
   "outputs": [],
   "source": [
    "\n",
    "# 模型树的叶节点生成函数\n",
    "def linearSolve(dataSet):\n",
    "    m,n = shape(dataSet)\n",
    "    X = mat(ones((m,n)))\n",
    "    Y = mat(ones((m,1)))\n",
    "    X[:,1:n] = dataSet[:,0:n-1]\n",
    "    Y = dataSet[:,-1]\n",
    "    xTx = X.T * X\n",
    "    if linalg.det(xTx) == 0.0:\n",
    "        raise NameError('This materix is singular, cannot do inverse,try increasing the second value of ops')\n",
    "    ws = xTx.I *(X.T * Y)\n",
    "    return ws,X,Y\n",
    "def modelLeaf(dataSet):\n",
    "    ws,X,Y = linearSolve(dataSet)\n",
    "    return ws\n",
    "def modelErr(dataSet):\n",
    "    ws,X,Y = linearSolve(dataSet)\n",
    "    yHat = X * ws\n",
    "    # 方差\n",
    "    return sum(power(Y - yHat,2))\n"
   ]
  },
  {
   "cell_type": "code",
   "execution_count": 22,
   "metadata": {},
   "outputs": [],
   "source": [
    "myMat2 = mat(loadDataSet('exp2.txt'))"
   ]
  },
  {
   "cell_type": "code",
   "execution_count": 23,
   "metadata": {},
   "outputs": [
    {
     "data": {
      "text/plain": [
       "{'spInd': 0, 'spVal': 0.285477, 'left': matrix([[1.69855694e-03],\n",
       "         [1.19647739e+01]]), 'right': matrix([[3.46877936],\n",
       "         [1.18521743]])}"
      ]
     },
     "execution_count": 23,
     "metadata": {},
     "output_type": "execute_result"
    }
   ],
   "source": [
    "creatTree(myMat2,modelLeaf,modelErr,(1,10))"
   ]
  },
  {
   "cell_type": "markdown",
   "metadata": {},
   "source": [
    "## 用树回归进行预测的代码"
   ]
  },
  {
   "cell_type": "code",
   "execution_count": 24,
   "metadata": {},
   "outputs": [],
   "source": [
    "# 用树回归进行预测的代码\n",
    "def regTreeEval(model,inDat):\n",
    "    return float(model)\n",
    "def modelTreeEval(model,inDat):\n",
    "    n = shape(inDat)[1]\n",
    "    X = mat(ones((1,n+1)))\n",
    "    X[:,1:n+1] = inDat\n",
    "    return float(X * model)\n",
    "def treeForeCast(tree,inData,modelEval = regTreeEval):\n",
    "    if not isTree(tree):\n",
    "        return modelEval(tree,inData)\n",
    "    if inData[tree['spInd']] > tree['spVal']:\n",
    "        if isTree(tree['left']):\n",
    "            return treeForeCast(tree['left'],inData,modelEval)\n",
    "        else:\n",
    "            return modelEval(tree['left'],inData)\n",
    "    else:\n",
    "        if isTree(tree['right']):\n",
    "            return treeForeCast(tree['right'],inData,modelEval)\n",
    "        else:\n",
    "            return modelEval(tree['right'],inData)\n",
    "def creatForeCast(tree,testData,modelEval = regTreeEval):\n",
    "    m = len(testData)\n",
    "    yHat = mat(zeros((m,1)))\n",
    "    for i in range(m):\n",
    "        yHat[i,0] = treeForeCast(tree,mat(testData[i]),modelEval)\n",
    "    return yHat"
   ]
  },
  {
   "cell_type": "markdown",
   "metadata": {},
   "source": [
    "## 创建一棵回归树"
   ]
  },
  {
   "cell_type": "code",
   "execution_count": 25,
   "metadata": {},
   "outputs": [],
   "source": [
    "trainMat = mat(loadDataSet('bikeSpeedVsIq_train.txt'))"
   ]
  },
  {
   "cell_type": "code",
   "execution_count": 26,
   "metadata": {},
   "outputs": [],
   "source": [
    "testMat = mat(loadDataSet('bikeSpeedVsIq_test.txt'))"
   ]
  },
  {
   "cell_type": "code",
   "execution_count": 27,
   "metadata": {},
   "outputs": [],
   "source": [
    "myTree = creatTree(trainMat,ops = (1,20))"
   ]
  },
  {
   "cell_type": "code",
   "execution_count": 28,
   "metadata": {},
   "outputs": [],
   "source": [
    "yHat = creatForeCast(myTree,testMat[:,0])"
   ]
  },
  {
   "cell_type": "code",
   "execution_count": 29,
   "metadata": {},
   "outputs": [
    {
     "data": {
      "text/plain": [
       "0.9640852318222141"
      ]
     },
     "execution_count": 29,
     "metadata": {},
     "output_type": "execute_result"
    }
   ],
   "source": [
    "corrcoef(yHat,testMat[:,1],rowvar=0)[0,1]"
   ]
  },
  {
   "cell_type": "markdown",
   "metadata": {},
   "source": [
    "## 创建一棵模型树"
   ]
  },
  {
   "cell_type": "code",
   "execution_count": 30,
   "metadata": {},
   "outputs": [],
   "source": [
    "myTree = creatTree(trainMat,modelLeaf,modelErr,(1,20))"
   ]
  },
  {
   "cell_type": "code",
   "execution_count": 31,
   "metadata": {},
   "outputs": [],
   "source": [
    "yHat = creatForeCast(myTree,testMat[:,0],modelTreeEval)"
   ]
  },
  {
   "cell_type": "code",
   "execution_count": 32,
   "metadata": {},
   "outputs": [
    {
     "data": {
      "text/plain": [
       "0.9760412191380593"
      ]
     },
     "execution_count": 32,
     "metadata": {},
     "output_type": "execute_result"
    }
   ],
   "source": [
    "corrcoef(yHat,testMat[:,1],rowvar=0)[0,1]"
   ]
  },
  {
   "cell_type": "markdown",
   "metadata": {},
   "source": [
    "## 得到r^2"
   ]
  },
  {
   "cell_type": "code",
   "execution_count": 33,
   "metadata": {},
   "outputs": [],
   "source": [
    "ws,X,Y = linearSolve(trainMat)"
   ]
  },
  {
   "cell_type": "code",
   "execution_count": 34,
   "metadata": {},
   "outputs": [],
   "source": [
    "for i in range(shape(testMat)[0]):\n",
    "    yHat[i] = testMat[i,0] * ws[1,0] + ws[0,0]"
   ]
  },
  {
   "cell_type": "code",
   "execution_count": 35,
   "metadata": {},
   "outputs": [
    {
     "data": {
      "text/plain": [
       "0.9434684235674763"
      ]
     },
     "execution_count": 35,
     "metadata": {},
     "output_type": "execute_result"
    }
   ],
   "source": [
    "corrcoef(yHat,testMat[:,1],rowvar=0)[0,1]"
   ]
  },
  {
   "cell_type": "markdown",
   "metadata": {},
   "source": [
    "## 使用Python的Tkinter库创建GUI"
   ]
  },
  {
   "cell_type": "code",
   "execution_count": 37,
   "metadata": {},
   "outputs": [
    {
     "name": "stderr",
     "output_type": "stream",
     "text": [
      "D:\\AnacondaFile\\lib\\site-packages\\ipykernel_launcher.py:69: MatplotlibDeprecationWarning: The FigureCanvasTk.show function was deprecated in version 2.2. Use FigureCanvasTk.draw instead.\n",
      "D:\\AnacondaFile\\lib\\site-packages\\ipykernel_launcher.py:23: MatplotlibDeprecationWarning: The FigureCanvasTk.show function was deprecated in version 2.2. Use FigureCanvasTk.draw instead.\n"
     ]
    }
   ],
   "source": [
    "from numpy import *\n",
    "from tkinter import *\n",
    "\n",
    "import matplotlib\n",
    "matplotlib.use('TkAgg')\n",
    "from matplotlib.backends.backend_tkagg import FigureCanvasTkAgg\n",
    "from matplotlib.figure import Figure\n",
    "\n",
    "#\n",
    "def reDraw(tolS, tolN) :\n",
    "    reDraw.f.clf()\n",
    "    reDraw.a = reDraw.f.add_subplot(111)\n",
    "    if chkBtnVar.get() :\n",
    "        if tolN < 2 : tolN = 2\n",
    "        myTree = creatTree(reDraw.rawDat, modelLeaf, modelErr, (tolS, tolN))\n",
    "        yHat = creatForeCast(myTree, reDraw.testDat, modelTreeEval)\n",
    "    else :\n",
    "        myTree = creatTree(reDraw.rawDat, ops=(tolS, tolN))\n",
    "        yHat = creatForeCast(myTree, reDraw.testDat)\n",
    "    # reDraw.rawDat[:,0].A，需要将矩阵转换成数组\n",
    "    reDraw.a.scatter(reDraw.rawDat[:,0].A, reDraw.rawDat[:,1].A, s=5)\n",
    "    reDraw.a.plot(reDraw.testDat, yHat, linewidth=2.0)\n",
    "    reDraw.canvas.show()\n",
    "\n",
    "#\n",
    "def getInputs() :\n",
    "    try : tolN = int(tolNentry.get())\n",
    "    except :\n",
    "        tolN = 10\n",
    "        print (\"enter Integer for tolN\")\n",
    "        tolNentry.delete(0, END)\n",
    "        tolNentry.insert(0, '10')\n",
    "    try : tolS = float(tolSentry.get())\n",
    "    except : \n",
    "        tolS = 1.0\n",
    "        print (\"enter Float for tolS\")\n",
    "        tolSentry.delete(0, END)\n",
    "        tolSentry.insert(0, '1.0')\n",
    "    return tolN, tolS\n",
    "\n",
    "# \n",
    "def drawNewTree() :\n",
    "    # 取得输入框的值\n",
    "    tolN, tolS = getInputs()\n",
    "    # 利用tolN,tolS，调用reDraw生成漂亮的图\n",
    "    reDraw(tolS, tolN)\n",
    "\n",
    "root = Tk()\n",
    "\n",
    "Label(root, text='Plot Place Holder').grid(row=0, columnspan=3)\n",
    "\n",
    "Label(root, text='tolN').grid(row=1, column=0)\n",
    "tolNentry = Entry(root)\n",
    "tolNentry.grid(row=1, column=1)\n",
    "tolNentry.insert(0, '10')\n",
    "Label(root, text='tolS').grid(row=2, column=0)\n",
    "tolSentry = Entry(root)\n",
    "tolSentry.grid(row=2, column=1)\n",
    "tolSentry.insert(0, '1.0')\n",
    "# 点击“ReDraw”按钮后，调用drawNewTree()函数\n",
    "Button(root, text='ReDraw', command=drawNewTree).grid(row=1, column=2, rowspan=3)\n",
    "\n",
    "chkBtnVar = IntVar()\n",
    "chkBtn = Checkbutton(root, text='Model Tree', variable=chkBtnVar)\n",
    "chkBtn.grid(row=3, column=0, columnspan=2)\n",
    "\n",
    "reDraw.f = Figure(figsize=(5,4), dpi=100)\n",
    "reDraw.canvas = FigureCanvasTkAgg(reDraw.f, master=root)\n",
    "reDraw.canvas.show()\n",
    "reDraw.canvas.get_tk_widget().grid(row=0, columnspan=3)\n",
    "\n",
    "reDraw.rawDat = mat(loadDataSet('sine.txt'))\n",
    "reDraw.testDat = arange(min(reDraw.rawDat[:, 0]), max(reDraw.rawDat[:, 0]), 0.01)\n",
    "\n",
    "reDraw(1.0, 10)\n",
    "\n",
    "root.mainloop()"
   ]
  },
  {
   "cell_type": "code",
   "execution_count": null,
   "metadata": {},
   "outputs": [],
   "source": []
  },
  {
   "cell_type": "code",
   "execution_count": null,
   "metadata": {},
   "outputs": [],
   "source": []
  },
  {
   "cell_type": "code",
   "execution_count": null,
   "metadata": {},
   "outputs": [],
   "source": []
  }
 ],
 "metadata": {
  "kernelspec": {
   "display_name": "Python 3",
   "language": "python",
   "name": "python3"
  },
  "language_info": {
   "codemirror_mode": {
    "name": "ipython",
    "version": 3
   },
   "file_extension": ".py",
   "mimetype": "text/x-python",
   "name": "python",
   "nbconvert_exporter": "python",
   "pygments_lexer": "ipython3",
   "version": "3.7.0"
  }
 },
 "nbformat": 4,
 "nbformat_minor": 2
}
